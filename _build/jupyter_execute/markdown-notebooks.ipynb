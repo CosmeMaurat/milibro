{
 "cells": [
  {
   "cell_type": "markdown",
   "id": "f1dd068f",
   "metadata": {},
   "source": [
    "## Ques es HTML?\n",
    "HTML, siglas de \"HyperText Markup Language\" (Lenguaje de Marcado de Hipertexto en español), es el lenguaje de marcado estándar utilizado para crear páginas web. Fue desarrollado inicialmente por Tim Berners-Lee en la década de 1990 y ha evolucionado desde entonces. HTML se utiliza para estructurar el contenido de una página web al definir la jerarquía de elementos y etiquetas que componen la página.\n",
    "\n",
    "En el siguiente enlace puedes acceder a un tutorial de HTML\n",
    "[Aprende HTML](https://www.ionos.es/digitalguide/paginas-web/desarrollo-web/aprende-html-tutorial-para-principiantes/).\n",
    "\n",
    "```"
   ]
  }
 ],
 "metadata": {
  "jupytext": {
   "formats": "md:myst",
   "text_representation": {
    "extension": ".md",
    "format_name": "myst",
    "format_version": 0.13,
    "jupytext_version": "1.11.5"
   }
  },
  "kernelspec": {
   "display_name": "Python 3",
   "language": "python",
   "name": "python3"
  },
  "language_info": {
   "codemirror_mode": {
    "name": "ipython",
    "version": 3
   },
   "file_extension": ".py",
   "mimetype": "text/x-python",
   "name": "python",
   "nbconvert_exporter": "python",
   "pygments_lexer": "ipython3",
   "version": "3.12.0"
  },
  "source_map": [
   13
  ]
 },
 "nbformat": 4,
 "nbformat_minor": 5
}